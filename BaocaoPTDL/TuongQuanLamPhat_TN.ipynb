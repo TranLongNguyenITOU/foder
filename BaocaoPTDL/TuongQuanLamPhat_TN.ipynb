{
 "cells": [
  {
   "cell_type": "code",
   "execution_count": 2,
   "id": "a5a6416e-f5a6-4b32-8568-0c45c73a1067",
   "metadata": {},
   "outputs": [
    {
     "name": "stdout",
     "output_type": "stream",
     "text": [
      "DataFrame từ file1:\n",
      "   Time  Value\n",
      "0  2018    3.5\n",
      "1  2019    2.8\n",
      "2  2020    3.2\n",
      "3  2021    1.8\n",
      "4  2022    3.2\n",
      "\n",
      "DataFrame từ file2:\n",
      "   time  value\n",
      "0  2022   1.54\n",
      "1  2021   2.38\n",
      "2  2020   2.10\n",
      "3  2019   1.68\n",
      "4  2018   1.16\n",
      "\n",
      "Cột của df1: Index(['Time', 'Value'], dtype='object')\n",
      "Cột của df2: Index(['time', 'value'], dtype='object')\n",
      "Hệ số tương quan Pearson giữa Value1 và value2 là: -0.14506725247799582\n"
     ]
    }
   ],
   "source": [
    "import pandas as pd\n",
    "\n",
    "# Đọc file CSV đầu tiên\n",
    "df1 = pd.read_csv('LamPhat.csv')\n",
    "\n",
    "# Đọc file CSV thứ hai\n",
    "df2 = pd.read_csv('TNtheoNamdaxuly.csv')\n",
    "\n",
    "# In ra nội dung của hai DataFrame để kiểm tra\n",
    "print(\"DataFrame từ file1:\")\n",
    "print(df1)\n",
    "\n",
    "print(\"\\nDataFrame từ file2:\")\n",
    "print(df2)\n",
    "\n",
    "# Trước khi tính toán tương quan, kiểm tra các cột trong hai DataFrame\n",
    "print(\"\\nCột của df1:\", df1.columns)\n",
    "print(\"Cột của df2:\", df2.columns)\n",
    "\n",
    "# Tính toán hệ số tương quan giữa các cột tương ứng trong hai DataFrame\n",
    "# Giả sử bạn muốn tính tương quan giữa một cột cụ thể của df1 và một cột cụ thể của df2:\n",
    "# Ví dụ: tính tương quan giữa cột 'Column1' của df1 và 'Column2' của df2\n",
    "\n",
    "column1 = 'Value'  # Thay đổi thành tên cột bạn muốn trong df1\n",
    "column2 = 'value'  # Thay đổi thành tên cột bạn muốn trong df2\n",
    "\n",
    "# Kiểm tra xem cả hai cột có tồn tại trong các DataFrame hay không\n",
    "if column1 in df1.columns and column2 in df2.columns:\n",
    "    # Tính toán hệ số tương quan\n",
    "    correlation = df1[column1].corr(df2[column2])\n",
    "    print(f\"Hệ số tương quan Pearson giữa {column1}1 và {column2}2 là: {correlation}\")\n",
    "else:\n",
    "    print(f\"Một trong hai cột {column1} hoặc {column2} không tồn tại trong các DataFrame.\")\n"
   ]
  },
  {
   "cell_type": "code",
   "execution_count": null,
   "id": "40747e2f-a90c-4785-b694-e1a85c2ae55f",
   "metadata": {},
   "outputs": [],
   "source": []
  }
 ],
 "metadata": {
  "kernelspec": {
   "display_name": "Python 3 (ipykernel)",
   "language": "python",
   "name": "python3"
  },
  "language_info": {
   "codemirror_mode": {
    "name": "ipython",
    "version": 3
   },
   "file_extension": ".py",
   "mimetype": "text/x-python",
   "name": "python",
   "nbconvert_exporter": "python",
   "pygments_lexer": "ipython3",
   "version": "3.11.7"
  }
 },
 "nbformat": 4,
 "nbformat_minor": 5
}
